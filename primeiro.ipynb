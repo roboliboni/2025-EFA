{
  "nbformat": 4,
  "nbformat_minor": 0,
  "metadata": {
    "colab": {
      "provenance": []
    },
    "kernelspec": {
      "name": "python3",
      "display_name": "Python 3"
    },
    "language_info": {
      "name": "python"
    }
  },
  "cells": [
    {
      "cell_type": "markdown",
      "source": [
        "Iremos rodar nosso primeiro exemplo de ML, uma espécie de \"Hello world!\" da área: a classificação de caracteres mnist.\n",
        "\n",
        "Primeiro, iremos carregar o keras e o conjunto de dados (dataset) mnist, que já vem disponível no Keras."
      ],
      "metadata": {
        "id": "GMhc_11KtZlV"
      }
    },
    {
      "cell_type": "code",
      "execution_count": 14,
      "metadata": {
        "id": "g2kJdKFGrICp"
      },
      "outputs": [],
      "source": [
        "from tensorflow import keras\n",
        "from tensorflow.keras import layers\n",
        "from tensorflow.keras.datasets import mnist"
      ]
    },
    {
      "cell_type": "markdown",
      "source": [
        "Nesse caso, carregar os dados é relativamente fácil: eles já estão pré-processados. Os dados já estão separados em dois conjuntos: um de treinamento, em que iremos treinar o modelo, e um de teste, que deixamos intocável durante o treinamento e usamos no fim para testar o modelo. É importante NUNCA mexer nos dados de teste durante o treinamento e testes na rede."
      ],
      "metadata": {
        "id": "YWIyGTpPtqRf"
      }
    },
    {
      "cell_type": "code",
      "source": [
        "(train_images, train_labels), (test_images, test_labels) = mnist.load_data()"
      ],
      "metadata": {
        "id": "sI3hSE3WrQRt"
      },
      "execution_count": 15,
      "outputs": []
    },
    {
      "cell_type": "markdown",
      "source": [
        "As camadas da rede podem ser \"empilhadas\", uma a uma, na arquitetura sequencial. Definimos as camadas simples, uma a uma, definindo o número de nós em cada camada e a função de ativação a ser aplicada em cada camada (em todos os nós da camada)."
      ],
      "metadata": {
        "id": "KnaKaXf4uFe1"
      }
    },
    {
      "cell_type": "code",
      "source": [
        "model = keras.Sequential([\n",
        "    layers.Dense(512, activation='relu'),\n",
        "    layers.Dense(10, activation='softmax')\n",
        "])"
      ],
      "metadata": {
        "id": "S7UhfDeVrW3o"
      },
      "execution_count": 16,
      "outputs": []
    },
    {
      "cell_type": "markdown",
      "source": [
        "Neste exemplo, temos duas camadas, uma com 512 nós e outra (a de saída) com 10 nós, com cada nó dando a probabilidade da imagem ser de 0 a 9."
      ],
      "metadata": {
        "id": "tcmhL8u1yGfV"
      }
    },
    {
      "cell_type": "markdown",
      "source": [
        "Em seguida, compilamos o modelo. Aqui definimos três coisas fundamentais: o otimizador, a função perda e a métrica que iremos avaliar o modelo."
      ],
      "metadata": {
        "id": "7pFgtQBVuXFu"
      }
    },
    {
      "cell_type": "code",
      "source": [
        "model.compile(optimizer=\"RMSProp\",\n",
        "              loss=\"sparse_categorical_crossentropy\",\n",
        "              metrics=[\"accuracy\"])"
      ],
      "metadata": {
        "id": "jUMKNb72rtyB"
      },
      "execution_count": 17,
      "outputs": []
    },
    {
      "cell_type": "markdown",
      "source": [
        "Como o Keras trabalha com vetores, iremos redimensionar nossos dados para uma única dimensão de características, de tamanho 28*28 (28 do eixo x * 28 do y). Como a intensidade máxima dos pixels é 255, normalizamos em relação a esse valor."
      ],
      "metadata": {
        "id": "IjBcr2Byue94"
      }
    },
    {
      "cell_type": "code",
      "source": [
        "train_images.shape"
      ],
      "metadata": {
        "colab": {
          "base_uri": "https://localhost:8080/"
        },
        "id": "NoMIxzyzvm3f",
        "outputId": "ed743f04-929b-45e3-c558-bb3ccd729880"
      },
      "execution_count": 18,
      "outputs": [
        {
          "output_type": "execute_result",
          "data": {
            "text/plain": [
              "(60000, 28, 28)"
            ]
          },
          "metadata": {},
          "execution_count": 18
        }
      ]
    },
    {
      "cell_type": "code",
      "source": [
        "train_images = train_images.reshape((60000, 28*28))\n",
        "train_images = train_images.astype(\"float32\") / 255\n",
        "test_images = test_images.reshape((10000, 28*28))\n",
        "test_images = test_images.astype(\"float32\") / 255\n"
      ],
      "metadata": {
        "id": "rnYD2DkPr_LL"
      },
      "execution_count": 19,
      "outputs": []
    },
    {
      "cell_type": "code",
      "source": [
        "train_images.shape"
      ],
      "metadata": {
        "colab": {
          "base_uri": "https://localhost:8080/"
        },
        "id": "cK-mRNqxvtAM",
        "outputId": "7f7e1749-7579-405c-ca98-afe29f6464eb"
      },
      "execution_count": 20,
      "outputs": [
        {
          "output_type": "execute_result",
          "data": {
            "text/plain": [
              "(60000, 784)"
            ]
          },
          "metadata": {},
          "execution_count": 20
        }
      ]
    },
    {
      "cell_type": "markdown",
      "source": [
        "Por fim, fitamos o modelo. Precisamos dos nossos X (as características, no train_images), nossso valor alvo (train_labels), a quantidade de épocas e o número do batch."
      ],
      "metadata": {
        "id": "VK54YoI7uzAL"
      }
    },
    {
      "cell_type": "code",
      "source": [
        "history = model.fit(train_images, train_labels, epochs=5, batch_size=128)"
      ],
      "metadata": {
        "colab": {
          "base_uri": "https://localhost:8080/"
        },
        "id": "Q1_5pLkdsWOt",
        "outputId": "5c9849fc-555c-4337-c1c9-ea3d027ae9ce"
      },
      "execution_count": 21,
      "outputs": [
        {
          "output_type": "stream",
          "name": "stdout",
          "text": [
            "Epoch 1/5\n",
            "\u001b[1m469/469\u001b[0m \u001b[32m━━━━━━━━━━━━━━━━━━━━\u001b[0m\u001b[37m\u001b[0m \u001b[1m6s\u001b[0m 11ms/step - accuracy: 0.8693 - loss: 0.4403\n",
            "Epoch 2/5\n",
            "\u001b[1m469/469\u001b[0m \u001b[32m━━━━━━━━━━━━━━━━━━━━\u001b[0m\u001b[37m\u001b[0m \u001b[1m9s\u001b[0m 9ms/step - accuracy: 0.9664 - loss: 0.1161\n",
            "Epoch 3/5\n",
            "\u001b[1m469/469\u001b[0m \u001b[32m━━━━━━━━━━━━━━━━━━━━\u001b[0m\u001b[37m\u001b[0m \u001b[1m5s\u001b[0m 10ms/step - accuracy: 0.9800 - loss: 0.0721\n",
            "Epoch 4/5\n",
            "\u001b[1m469/469\u001b[0m \u001b[32m━━━━━━━━━━━━━━━━━━━━\u001b[0m\u001b[37m\u001b[0m \u001b[1m4s\u001b[0m 9ms/step - accuracy: 0.9848 - loss: 0.0510\n",
            "Epoch 5/5\n",
            "\u001b[1m469/469\u001b[0m \u001b[32m━━━━━━━━━━━━━━━━━━━━\u001b[0m\u001b[37m\u001b[0m \u001b[1m5s\u001b[0m 11ms/step - accuracy: 0.9888 - loss: 0.0380\n"
          ]
        }
      ]
    },
    {
      "cell_type": "markdown",
      "source": [
        "Podemos escolher um recorte (os primeiros 10 exemplos) do teste e verificar a previsão do modelo. Verificamos o valor para o primeiro exemplo do conjunto de teste."
      ],
      "metadata": {
        "id": "skCpvU-su-Sy"
      }
    },
    {
      "cell_type": "code",
      "source": [
        "test_digits = test_images[0:10]\n",
        "predictions = model.predict(test_digits)\n",
        "predictions[0]"
      ],
      "metadata": {
        "colab": {
          "base_uri": "https://localhost:8080/"
        },
        "id": "F6yqDGqDse3K",
        "outputId": "01e4a77e-f52e-4a6c-f7f4-56098098fea7"
      },
      "execution_count": 22,
      "outputs": [
        {
          "output_type": "stream",
          "name": "stdout",
          "text": [
            "\u001b[1m1/1\u001b[0m \u001b[32m━━━━━━━━━━━━━━━━━━━━\u001b[0m\u001b[37m\u001b[0m \u001b[1m0s\u001b[0m 96ms/step\n"
          ]
        },
        {
          "output_type": "execute_result",
          "data": {
            "text/plain": [
              "array([5.8404108e-08, 2.6773428e-09, 3.2569499e-06, 8.4717787e-05,\n",
              "       3.6819853e-11, 8.2554683e-09, 3.0587542e-12, 9.9990696e-01,\n",
              "       2.8014730e-07, 4.6120058e-06], dtype=float32)"
            ]
          },
          "metadata": {},
          "execution_count": 22
        }
      ]
    },
    {
      "cell_type": "markdown",
      "source": [
        "Vemos que o modelo prevê uma probabilidade de 0.999959 do caractere em questão ser um 7. Podemos conferir se a previsão está correta vendo a imagem:"
      ],
      "metadata": {
        "id": "rhFzuQbovNYj"
      }
    },
    {
      "cell_type": "code",
      "source": [
        "import matplotlib.pyplot as plt\n",
        "import matplotlib as mpl\n",
        "\n",
        "plt.imshow(test_digits[0].reshape(28,28))\n",
        "plt.axis(\"off\")\n",
        "plt.show()"
      ],
      "metadata": {
        "colab": {
          "base_uri": "https://localhost:8080/",
          "height": 406
        },
        "id": "hQUQ63DAxAVN",
        "outputId": "f6c57811-1633-45f4-b5a0-e5205dbe3c3e"
      },
      "execution_count": 25,
      "outputs": [
        {
          "output_type": "display_data",
          "data": {
            "text/plain": [
              "<Figure size 640x480 with 1 Axes>"
            ],
            "image/png": "[encoded data removed]"
          },
          "metadata": {}
        }
      ]
    },
    {
      "cell_type": "markdown",
      "source": [
        "Avaliamos a qualidade do modelo pela medida de acurácia no conjunto de teste:"
      ],
      "metadata": {
        "id": "5c1ZA1TExxwg"
      }
    },
    {
      "cell_type": "code",
      "source": [
        "test_loss, test_accuracy = model.evaluate(test_images, test_labels)\n",
        "print(f\"Test accuracy: {test_accuracy}\")"
      ],
      "metadata": {
        "colab": {
          "base_uri": "https://localhost:8080/"
        },
        "id": "jm4LeFxysv6b",
        "outputId": "a59d9885-7fb2-42c7-ecd9-aa5fc6154216"
      },
      "execution_count": 23,
      "outputs": [
        {
          "output_type": "stream",
          "name": "stdout",
          "text": [
            "\u001b[1m313/313\u001b[0m \u001b[32m━━━━━━━━━━━━━━━━━━━━\u001b[0m\u001b[37m\u001b[0m \u001b[1m1s\u001b[0m 2ms/step - accuracy: 0.9756 - loss: 0.0788\n",
            "Test accuracy: 0.9787999987602234\n"
          ]
        }
      ]
    },
    {
      "cell_type": "markdown",
      "source": [
        "Temos uma acurácia de 0.979. Nada mal!"
      ],
      "metadata": {
        "id": "ulrFajmHvd3m"
      }
    }
  ]
}